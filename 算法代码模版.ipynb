{
 "cells": [
  {
   "cell_type": "markdown",
   "source": [
    "# 1. 双指针: 只有一个输入, 从两端开始遍\n",
    "```python\n",
    "def fn(arr):\n",
    "    left = ans = 0\n",
    "    right = len(arr) - 1\n",
    "\n",
    "    while left < right:\n",
    "        # 一些根据 letf 和 right 相关的代码补充\n",
    "        if CONDITION:\n",
    "            left += 1\n",
    "        else:\n",
    "            right -= 1\n",
    "\n",
    "    return ans\n",
    "```\n",
    "\n",
    "作者：LeetCode\n",
    "链接：https://leetcode.cn/leetbook/read/arithmetic-interview-cheat-sheet/0eootg/\n",
    "来源：力扣（LeetCode）\n",
    "著作权归作者所有。商业转载请联系作者获得授权，非商业转载请注明出处。\n"
   ],
   "metadata": {
    "collapsed": false
   }
  },
  {
   "cell_type": "markdown",
   "source": [
    "## 案例：[11. 盛最多水的容器](https://leetcode.cn/problems/container-with-most-water/)"
   ],
   "metadata": {
    "collapsed": false
   }
  },
  {
   "cell_type": "code",
   "execution_count": 1,
   "outputs": [],
   "source": [
    "from typing import List\n",
    "\n",
    "def calc_area_size(h: int, w: int) -> int:\n",
    "    return h * w\n",
    "\n",
    "\n",
    "class Solution:\n",
    "    def maxArea(self, height: List[int]) -> int:\n",
    "        left = ans = 0\n",
    "        right = len(height) - 1\n",
    "\n",
    "        while left < right:\n",
    "            w = right - left\n",
    "            h = 0\n",
    "            if height[left] < height[right]:\n",
    "                h = height[left];\n",
    "                left += 1\n",
    "            else:\n",
    "                h = height[right];\n",
    "                right -= 1\n",
    "\n",
    "            curent_area = calc_area_size(h, w)\n",
    "            if curent_area > ans:\n",
    "                ans = curent_area\n",
    "\n",
    "        return ans"
   ],
   "metadata": {
    "collapsed": false,
    "ExecuteTime": {
     "end_time": "2023-07-27T02:54:16.196051Z",
     "start_time": "2023-07-27T02:54:16.192192Z"
    }
   }
  },
  {
   "cell_type": "markdown",
   "source": [
    "# 2. 双指针：有两个输入，两个都要遍历完\n",
    "```python\n",
    "def fn(arr1, arr2):\n",
    "    i = j = ans = 0\n",
    "\n",
    "    while i < len(arr1) and j < len(arr2):\n",
    "        # 根据题意补充代码\n",
    "        if CONDITION:\n",
    "            i += 1\n",
    "        else:\n",
    "            j += 1\n",
    "\n",
    "    while i < len(arr1):\n",
    "        # 根据题意补充代码\n",
    "        i += 1\n",
    "\n",
    "    while j < len(arr2):\n",
    "        # 根据题意补充代码\n",
    "        j += 1\n",
    "\n",
    "    return ans\n",
    "```\n",
    "\n",
    "作者：LeetCode\n",
    "链接：https://leetcode.cn/leetbook/read/arithmetic-interview-cheat-sheet/0er5uv/\n",
    "来源：力扣（LeetCode）\n",
    "著作权归作者所有。商业转载请联系作者获得授权，非商业转载请注明出处。"
   ],
   "metadata": {
    "collapsed": false
   }
  },
  {
   "cell_type": "markdown",
   "source": [
    "## [88. 合并两个有序数组](https://leetcode.cn/problems/merge-sorted-array/)\n",
    "\n",
    "给你两个按 非递减顺序 排列的整数数组 nums1 和 nums2，另有两个整数 m 和 n ，分别表示 nums1 和 nums2 中的元素数目。\n",
    "\n",
    "请你 合并 nums2 到 nums1 中，使合并后的数组同样按 非递减顺序 排列。\n",
    "\n",
    "注意：最终，合并后数组不应由函数返回，而是存储在数组 nums1 中。为了应对这种情况，nums1 的初始长度为 m + n，其中前 m 个元素表示应合并的元素，后 n 个元素为 0 ，应忽略。nums2 的长度为 n 。\n",
    "\n",
    "\n",
    "\n",
    "示例 1：\n",
    "\n",
    "输入：nums1 = [1,2,3,0,0,0], m = 3, nums2 = [2,5,6], n = 3\n",
    "输出：[1,2,2,3,5,6]\n",
    "解释：需要合并 [1,2,3] 和 [2,5,6] 。\n",
    "合并结果是 [1,2,2,3,5,6] ，其中斜体加粗标注的为 nums1 中的元素。\n",
    "示例 2：\n",
    "\n",
    "输入：nums1 = [1], m = 1, nums2 = [], n = 0\n",
    "输出：[1]\n",
    "解释：需要合并 [1] 和 [] 。\n",
    "合并结果是 [1] 。\n",
    "示例 3：\n",
    "\n",
    "输入：nums1 = [0], m = 0, nums2 = [1], n = 1\n",
    "输出：[1]\n",
    "解释：需要合并的数组是 [] 和 [1] 。\n",
    "合并结果是 [1] 。\n",
    "注意，因为 m = 0 ，所以 nums1 中没有元素。nums1 中仅存的 0 仅仅是为了确保合并结果可以顺利存放到 nums1 中。\n",
    "\n",
    "\n",
    "提示：\n",
    "\n",
    "nums1.length == m + n\n",
    "nums2.length == n\n",
    "0 <= m, n <= 200\n",
    "1 <= m + n <= 200\n",
    "-109 <= nums1[i], nums2[j] <= 109\n",
    "\n",
    "\n",
    "进阶：你可以设计实现一个时间复杂度为 O(m + n) 的算法解决此问题吗？"
   ],
   "metadata": {
    "collapsed": false
   }
  },
  {
   "cell_type": "code",
   "execution_count": null,
   "outputs": [],
   "source": [
    "from typing import List\n",
    "\n",
    "class Solution:\n",
    "    def merge(self, nums1: List[int], m: int, nums2: List[int], n: int) -> None:\n",
    "        i = j = 0\n",
    "        temp = nums1[:m]\n",
    "\n",
    "        while i < m and j < n:\n",
    "            if temp[i] < nums2[j]:\n",
    "                nums1[i+j] = temp[i]\n",
    "                i += 1\n",
    "            else:\n",
    "                nums1[i+j] = nums2[j]\n",
    "                j += 1\n",
    "\n",
    "        while i < m:\n",
    "            nums1[i+j] = temp[i]\n",
    "            i += 1\n",
    "\n",
    "        while j < n:\n",
    "            nums1[i+j] = nums2[j]\n",
    "            j += 1"
   ],
   "metadata": {
    "collapsed": false
   }
  }
 ],
 "metadata": {
  "kernelspec": {
   "display_name": "Python 3",
   "language": "python",
   "name": "python3"
  },
  "language_info": {
   "codemirror_mode": {
    "name": "ipython",
    "version": 2
   },
   "file_extension": ".py",
   "mimetype": "text/x-python",
   "name": "python",
   "nbconvert_exporter": "python",
   "pygments_lexer": "ipython2",
   "version": "2.7.6"
  }
 },
 "nbformat": 4,
 "nbformat_minor": 0
}
