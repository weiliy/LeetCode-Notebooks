{
 "cells": [
  {
   "cell_type": "markdown",
   "source": [
    "# 1. 双指针: 只有一个输入, 从两端开始遍\n",
    "```python\n",
    "def fn(arr):\n",
    "    left = ans = 0\n",
    "    right = len(arr) - 1\n",
    "\n",
    "    while left < right:\n",
    "        # 一些根据 letf 和 right 相关的代码补充\n",
    "        if CONDITION:\n",
    "            left += 1\n",
    "        else:\n",
    "            right -= 1\n",
    "\n",
    "    return ans\n",
    "```\n",
    "\n",
    "作者：LeetCode\n",
    "链接：https://leetcode.cn/leetbook/read/arithmetic-interview-cheat-sheet/0eootg/\n",
    "来源：力扣（LeetCode）\n",
    "著作权归作者所有。商业转载请联系作者获得授权，非商业转载请注明出处。\n"
   ],
   "metadata": {
    "collapsed": false
   }
  },
  {
   "cell_type": "markdown",
   "source": [
    "## 案例：[11. 盛最多水的容器](https://leetcode.cn/problems/container-with-most-water/)"
   ],
   "metadata": {
    "collapsed": false
   }
  },
  {
   "cell_type": "code",
   "execution_count": 1,
   "outputs": [],
   "source": [
    "from typing import List\n",
    "\n",
    "def calc_area_size(h: int, w: int) -> int:\n",
    "    return h * w\n",
    "\n",
    "\n",
    "class Solution:\n",
    "    def maxArea(self, height: List[int]) -> int:\n",
    "        left = ans = 0\n",
    "        right = len(height) - 1\n",
    "\n",
    "        while left < right:\n",
    "            w = right - left\n",
    "            h = 0\n",
    "            if height[left] < height[right]:\n",
    "                h = height[left];\n",
    "                left += 1\n",
    "            else:\n",
    "                h = height[right];\n",
    "                right -= 1\n",
    "\n",
    "            curent_area = calc_area_size(h, w)\n",
    "            if curent_area > ans:\n",
    "                ans = curent_area\n",
    "\n",
    "        return ans"
   ],
   "metadata": {
    "collapsed": false,
    "ExecuteTime": {
     "end_time": "2023-07-27T02:54:16.196051Z",
     "start_time": "2023-07-27T02:54:16.192192Z"
    }
   }
  },
  {
   "cell_type": "markdown",
   "source": [
    "# 2. 双指针：有两个输入，两个都要遍历完\n",
    "```python\n",
    "def fn(arr1, arr2):\n",
    "    i = j = ans = 0\n",
    "\n",
    "    while i < len(arr1) and j < len(arr2):\n",
    "        # 根据题意补充代码\n",
    "        if CONDITION:\n",
    "            i += 1\n",
    "        else:\n",
    "            j += 1\n",
    "\n",
    "    while i < len(arr1):\n",
    "        # 根据题意补充代码\n",
    "        i += 1\n",
    "\n",
    "    while j < len(arr2):\n",
    "        # 根据题意补充代码\n",
    "        j += 1\n",
    "\n",
    "    return ans\n",
    "```\n",
    "\n",
    "作者：LeetCode\n",
    "链接：https://leetcode.cn/leetbook/read/arithmetic-interview-cheat-sheet/0er5uv/\n",
    "来源：力扣（LeetCode）\n",
    "著作权归作者所有。商业转载请联系作者获得授权，非商业转载请注明出处。"
   ],
   "metadata": {
    "collapsed": false
   }
  },
  {
   "cell_type": "markdown",
   "source": [
    "## [88. 合并两个有序数组](https://leetcode.cn/problems/merge-sorted-array/)\n",
    "\n",
    "给你两个按 非递减顺序 排列的整数数组 nums1 和 nums2，另有两个整数 m 和 n ，分别表示 nums1 和 nums2 中的元素数目。\n",
    "\n",
    "请你 合并 nums2 到 nums1 中，使合并后的数组同样按 非递减顺序 排列。\n",
    "\n",
    "注意：最终，合并后数组不应由函数返回，而是存储在数组 nums1 中。为了应对这种情况，nums1 的初始长度为 m + n，其中前 m 个元素表示应合并的元素，后 n 个元素为 0 ，应忽略。nums2 的长度为 n 。\n",
    "\n",
    "\n",
    "\n",
    "示例 1：\n",
    "\n",
    "输入：nums1 = [1,2,3,0,0,0], m = 3, nums2 = [2,5,6], n = 3\n",
    "输出：[1,2,2,3,5,6]\n",
    "解释：需要合并 [1,2,3] 和 [2,5,6] 。\n",
    "合并结果是 [1,2,2,3,5,6] ，其中斜体加粗标注的为 nums1 中的元素。\n",
    "示例 2：\n",
    "\n",
    "输入：nums1 = [1], m = 1, nums2 = [], n = 0\n",
    "输出：[1]\n",
    "解释：需要合并 [1] 和 [] 。\n",
    "合并结果是 [1] 。\n",
    "示例 3：\n",
    "\n",
    "输入：nums1 = [0], m = 0, nums2 = [1], n = 1\n",
    "输出：[1]\n",
    "解释：需要合并的数组是 [] 和 [1] 。\n",
    "合并结果是 [1] 。\n",
    "注意，因为 m = 0 ，所以 nums1 中没有元素。nums1 中仅存的 0 仅仅是为了确保合并结果可以顺利存放到 nums1 中。\n",
    "\n",
    "\n",
    "提示：\n",
    "\n",
    "nums1.length == m + n\n",
    "nums2.length == n\n",
    "0 <= m, n <= 200\n",
    "1 <= m + n <= 200\n",
    "-109 <= nums1[i], nums2[j] <= 109\n",
    "\n",
    "\n",
    "进阶：你可以设计实现一个时间复杂度为 O(m + n) 的算法解决此问题吗？"
   ],
   "metadata": {
    "collapsed": false
   }
  },
  {
   "cell_type": "code",
   "execution_count": null,
   "outputs": [],
   "source": [
    "from typing import List\n",
    "\n",
    "class Solution:\n",
    "    def merge(self, nums1: List[int], m: int, nums2: List[int], n: int) -> None:\n",
    "        i = j = 0\n",
    "        temp = nums1[:m]\n",
    "\n",
    "        while i < m and j < n:\n",
    "            if temp[i] < nums2[j]:\n",
    "                nums1[i+j] = temp[i]\n",
    "                i += 1\n",
    "            else:\n",
    "                nums1[i+j] = nums2[j]\n",
    "                j += 1\n",
    "\n",
    "        while i < m:\n",
    "            nums1[i+j] = temp[i]\n",
    "            i += 1\n",
    "\n",
    "        while j < n:\n",
    "            nums1[i+j] = nums2[j]\n",
    "            j += 1"
   ],
   "metadata": {
    "collapsed": false,
    "is_executing": true
   }
  },
  {
   "cell_type": "markdown",
   "source": [
    "# 3. 滑动窗口\n",
    "\n",
    "```python\n",
    "def fn(arr):\n",
    "    left = ans = curr = 0\n",
    "\n",
    "    for right in range(len(arr)):\n",
    "        # 根据题意补充代码来将 arr[right] 添加到 curr\n",
    "\n",
    "        while WINDOW_CONDITION_BROKEN:\n",
    "            # 从 curr 中删除 arr[left]\n",
    "            left += 1\n",
    "\n",
    "        # 更新 ans\n",
    "\n",
    "    return ans\n",
    "```\n",
    "\n",
    "作者：LeetCode\n",
    "链接：https://leetcode.cn/leetbook/read/arithmetic-interview-cheat-sheet/0erflj/\n",
    "来源：力扣（LeetCode）\n",
    "著作权归作者所有。商业转载请联系作者获得授权，非商业转载请注明出处。"
   ],
   "metadata": {
    "collapsed": false
   }
  },
  {
   "cell_type": "markdown",
   "source": [
    "## 案例：[643. 子数组最大平均数 I](https://leetcode.cn/problems/maximum-average-subarray-i/)\n",
    "给你一个由 n 个元素组成的整数数组 nums 和一个整数 k 。\n",
    "\n",
    "请你找出平均数最大且 长度为 k 的连续子数组，并输出该最大平均数。\n",
    "\n",
    "任何误差小于 10-5 的答案都将被视为正确答案。\n",
    "\n",
    "\n",
    "\n",
    "示例 1：\n",
    "\n",
    "输入：nums = [1,12,-5,-6,50,3], k = 4\n",
    "输出：12.75\n",
    "解释：最大平均数 (12-5-6+50)/4 = 51/4 = 12.75\n",
    "示例 2：\n",
    "\n",
    "输入：nums = [5], k = 1\n",
    "输出：5.00000\n",
    "\n",
    "\n",
    "提示：\n",
    "\n",
    "n == nums.length\n",
    "1 <= k <= n <= 105\n",
    "-104 <= nums[i] <= 104"
   ],
   "metadata": {
    "collapsed": false
   }
  },
  {
   "cell_type": "code",
   "execution_count": null,
   "outputs": [],
   "source": [
    "import math\n",
    "\n",
    "class Solution:\n",
    "    def findMaxAverage(self, nums: List[int], k: int) -> float:\n",
    "\n",
    "        left = sum_window = 0\n",
    "        sum_max = -math.inf\n",
    "\n",
    "        for right in range(len(nums)):\n",
    "            sum_window += nums[right]\n",
    "\n",
    "            if right - left + 1 < k:\n",
    "                continue;\n",
    "\n",
    "            if right - left + 1 > k:\n",
    "                sum_window -= nums[left]\n",
    "                left += 1\n",
    "\n",
    "            sum_max = max(sum_window, sum_max)\n",
    "        return sum_max / k"
   ],
   "metadata": {
    "collapsed": false
   }
  },
  {
   "cell_type": "markdown",
   "source": [
    "## 案例：[159. 至多包含两个不同字符的最长子串](https://leetcode.cn/problems/longest-substring-with-at-most-two-distinct-characters/)\n",
    "\n",
    "给你一个字符串 s ，请你找出 至多 包含 两个不同字符 的最长子串，并返回该子串的长度。\n",
    "\n",
    "\n",
    "示例 1：\n",
    "\n",
    "输入：s = \"eceba\"\n",
    "输出：3\n",
    "解释：满足题目要求的子串是 \"ece\" ，长度为 3 。\n",
    "示例 2：\n",
    "\n",
    "输入：s = \"ccaabbb\"\n",
    "输出：5\n",
    "解释：满足题目要求的子串是 \"aabbb\" ，长度为 5 。\n",
    "\n",
    "\n",
    "提示：\n",
    "\n",
    "1 <= s.length <= 105\n",
    "s 由英文字母组成"
   ],
   "metadata": {
    "collapsed": false
   }
  },
  {
   "cell_type": "code",
   "execution_count": null,
   "outputs": [],
   "source": [
    "from typing import Dict\n",
    "\n",
    "class Solution:\n",
    "    def lengthOfLongestSubstringTwoDistinct(self, s: str) -> int:\n",
    "        left = max_length = 0\n",
    "        charDic : Dict[str, int] = {}\n",
    "\n",
    "        for right in range(len(s)):\n",
    "            charDic[s[right]] = right\n",
    "\n",
    "            while len(charDic) > 2:\n",
    "                pos = min(charDic.values())\n",
    "                del charDic[s[pos]]\n",
    "                left = pos + 1\n",
    "\n",
    "            max_length = max(right - left +1, max_length)\n",
    "\n",
    "        return max_length"
   ],
   "metadata": {
    "collapsed": false
   }
  },
  {
   "cell_type": "markdown",
   "source": [
    "## 案例：[3. 无重复字符的最长子串](https://leetcode.cn/problems/longest-substring-without-repeating-characters/)\n",
    "\n",
    "给定一个字符串 s ，请你找出其中不含有重复字符的 最长子串 的长度。\n",
    "\n",
    "\n",
    "\n",
    "示例 1:\n",
    "\n",
    "输入: s = \"abcabcbb\"\n",
    "输出: 3\n",
    "解释: 因为无重复字符的最长子串是 \"abc\"，所以其长度为 3。\n",
    "示例 2:\n",
    "\n",
    "输入: s = \"bbbbb\"\n",
    "输出: 1\n",
    "解释: 因为无重复字符的最长子串是 \"b\"，所以其长度为 1。\n",
    "示例 3:\n",
    "\n",
    "输入: s = \"pwwkew\"\n",
    "输出: 3\n",
    "解释: 因为无重复字符的最长子串是 \"wke\"，所以其长度为 3。\n",
    "     请注意，你的答案必须是 子串 的长度，\"pwke\" 是一个子序列，不是子串。\n",
    "\n",
    "\n",
    "提示：\n",
    "\n",
    "0 <= s.length <= 5 * 104\n",
    "s 由英文字母、数字、符号和空格组成"
   ],
   "metadata": {
    "collapsed": false
   }
  },
  {
   "cell_type": "code",
   "execution_count": null,
   "outputs": [],
   "source": [
    "class Solution:\n",
    "    def lengthOfLongestSubstring(self, s: str) -> int:\n",
    "\n",
    "        left = ans = 0\n",
    "        letter_counter = {}\n",
    "\n",
    "        for right in range(len(s)):\n",
    "            right_c = s[right]\n",
    "            letter_counter[right_c] = letter_counter.get(right_c, 0) + 1\n",
    "\n",
    "            while (max(letter_counter.values()) > 1):\n",
    "                left_c = s[left]\n",
    "                letter_counter[left_c] -= 1\n",
    "                if letter_counter[left_c] == 0:\n",
    "                    del letter_counter[left_c]\n",
    "                left += 1\n",
    "\n",
    "            ans = max(ans, right - left + 1)\n",
    "\n",
    "        return ans"
   ],
   "metadata": {
    "collapsed": false
   }
  },
  {
   "cell_type": "code",
   "execution_count": null,
   "outputs": [],
   "source": [
    "class Solution:\n",
    "    def lengthOfLongestSubstring(self, s: str) -> int:\n",
    "\n",
    "        left = ans = 0\n",
    "        letter_last = {}\n",
    "\n",
    "        for right in range(len(s)):\n",
    "            right_c = s[right]\n",
    "\n",
    "            while right_c in letter_last:\n",
    "                left_c = s[left]\n",
    "                left = letter_last[left_c] + 1\n",
    "                del letter_last[left_c]\n",
    "\n",
    "            letter_last[right_c] = right\n",
    "            ans = max(ans, right - left + 1)\n",
    "\n",
    "        return ans"
   ],
   "metadata": {
    "collapsed": false
   }
  }
 ],
 "metadata": {
  "kernelspec": {
   "display_name": "Python 3",
   "language": "python",
   "name": "python3"
  },
  "language_info": {
   "codemirror_mode": {
    "name": "ipython",
    "version": 2
   },
   "file_extension": ".py",
   "mimetype": "text/x-python",
   "name": "python",
   "nbconvert_exporter": "python",
   "pygments_lexer": "ipython2",
   "version": "2.7.6"
  }
 },
 "nbformat": 4,
 "nbformat_minor": 0
}
